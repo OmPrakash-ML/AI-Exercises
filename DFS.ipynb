{
  "nbformat": 4,
  "nbformat_minor": 0,
  "metadata": {
    "colab": {
      "provenance": [],
      "authorship_tag": "ABX9TyPeGwbqvDNknRJ9RxHT5PKK",
      "include_colab_link": true
    },
    "kernelspec": {
      "name": "python3",
      "display_name": "Python 3"
    },
    "language_info": {
      "name": "python"
    }
  },
  "cells": [
    {
      "cell_type": "markdown",
      "metadata": {
        "id": "view-in-github",
        "colab_type": "text"
      },
      "source": [
        "<a href=\"https://colab.research.google.com/github/OmPrakash-ML/N-Queens/blob/main/DFS.ipynb\" target=\"_parent\"><img src=\"https://colab.research.google.com/assets/colab-badge.svg\" alt=\"Open In Colab\"/></a>"
      ]
    },
    {
      "cell_type": "code",
      "execution_count": 1,
      "metadata": {
        "colab": {
          "base_uri": "https://localhost:8080/"
        },
        "id": "xtqI9qj_Opyd",
        "outputId": "804f9fc8-2651-424a-f768-b3d0f816d7e4"
      },
      "outputs": [
        {
          "output_type": "stream",
          "name": "stdout",
          "text": [
            "Path found: ['A', 'B', 'E', 'F']\n"
          ]
        }
      ],
      "source": [
        "def dfs(graph, start, goal, path=None):\n",
        "    if path is None:\n",
        "        path = []\n",
        "\n",
        "    path.append(start)\n",
        "\n",
        "    if start == goal:\n",
        "        return path\n",
        "\n",
        "    for neighbor in graph[start]:\n",
        "        if neighbor not in path:\n",
        "            result = dfs(graph, neighbor, goal, path.copy())\n",
        "            if result:\n",
        "                return result\n",
        "\n",
        "    return None\n",
        "\n",
        "graph = {\n",
        "    'A': ['B', 'C'],\n",
        "    'B': ['D', 'E'],\n",
        "    'C': ['F'],\n",
        "    'D': [],\n",
        "    'E': ['F'],\n",
        "    'F': []\n",
        "}\n",
        "\n",
        "start_node = 'A'\n",
        "goal_node = 'F'\n",
        "\n",
        "path = dfs(graph, start_node, goal_node)\n",
        "print(\"Path found:\", path if path else \"No path exists\")\n"
      ]
    }
  ]
}