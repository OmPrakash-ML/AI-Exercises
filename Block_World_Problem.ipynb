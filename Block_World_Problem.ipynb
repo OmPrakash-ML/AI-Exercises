{
  "nbformat": 4,
  "nbformat_minor": 0,
  "metadata": {
    "colab": {
      "provenance": [],
      "authorship_tag": "ABX9TyMmyTtlq1/lb/Saq7GG45S0",
      "include_colab_link": true
    },
    "kernelspec": {
      "name": "python3",
      "display_name": "Python 3"
    },
    "language_info": {
      "name": "python"
    }
  },
  "cells": [
    {
      "cell_type": "markdown",
      "metadata": {
        "id": "view-in-github",
        "colab_type": "text"
      },
      "source": [
        "<a href=\"https://colab.research.google.com/github/OmPrakash-ML/AI-Exercises/blob/main/Block_World_Problem.ipynb\" target=\"_parent\"><img src=\"https://colab.research.google.com/assets/colab-badge.svg\" alt=\"Open In Colab\"/></a>"
      ]
    },
    {
      "cell_type": "code",
      "execution_count": 1,
      "metadata": {
        "colab": {
          "base_uri": "https://localhost:8080/"
        },
        "id": "ZJnha6m19JzV",
        "outputId": "c4dc9770-3f38-4a80-d266-bc5333631b3f"
      },
      "outputs": [
        {
          "output_type": "stream",
          "name": "stdout",
          "text": [
            "Goal state reached:\n",
            "  B A\n",
            "C D  \n",
            "\n"
          ]
        },
        {
          "output_type": "execute_result",
          "data": {
            "text/plain": [
              "True"
            ]
          },
          "metadata": {},
          "execution_count": 1
        }
      ],
      "source": [
        "class BlocksWorld:\n",
        "    def __init__(self, initial_state):\n",
        "        self.state = initial_state\n",
        "\n",
        "    def display_state(self):\n",
        "        for row in self.state:\n",
        "            print(\" \".join(row))\n",
        "        print()\n",
        "\n",
        "    def is_goal_state(self, goal_state):\n",
        "        return self.state == goal_state\n",
        "\n",
        "    def generate_successors(self):\n",
        "        successors = []\n",
        "        for i in range(len(self.state)):\n",
        "            for j in range(len(self.state[i])):\n",
        "                if self.state[i][j] != \" \":\n",
        "\n",
        "                    if i > 0 and self.state[i - 1][j] == \" \":\n",
        "                        new_state = [row.copy() for row in self.state]\n",
        "                        new_state[i][j], new_state[i - 1][j] = new_state[i - 1][j], new_state[i][j]\n",
        "                        successors.append(BlocksWorld(new_state))\n",
        "\n",
        "                    if i < len(self.state) - 1 and self.state[i + 1][j] == \" \":\n",
        "                        new_state = [row.copy() for row in self.state]\n",
        "                        new_state[i][j], new_state[i + 1][j] = new_state[i + 1][j], new_state[i][j]\n",
        "                        successors.append(BlocksWorld(new_state))\n",
        "\n",
        "                    if j > 0 and self.state[i][j - 1] == \" \":\n",
        "                        new_state = [row.copy() for row in self.state]\n",
        "                        new_state[i][j], new_state[i][j - 1] = new_state[i][j - 1], new_state[i][j]\n",
        "                        successors.append(BlocksWorld(new_state))\n",
        "\n",
        "                    if j < len(self.state[i]) - 1 and self.state[i][j + 1] == \" \":\n",
        "                        new_state = [row.copy() for row in self.state]\n",
        "                        new_state[i][j], new_state[i][j + 1] = new_state[i][j + 1], new_state[i][j]\n",
        "                        successors.append(BlocksWorld(new_state))\n",
        "        return successors\n",
        "\n",
        "def depth_first_search(initial_state, goal_state):\n",
        "    stack = [BlocksWorld(initial_state)]\n",
        "    visited = set()\n",
        "\n",
        "    while stack:\n",
        "        current_state = stack.pop()\n",
        "        if current_state.is_goal_state(goal_state):\n",
        "            print(\"Goal state reached:\")\n",
        "            current_state.display_state()\n",
        "            return True\n",
        "        visited.add(tuple(map(tuple, current_state.state)))\n",
        "\n",
        "        successors = current_state.generate_successors()\n",
        "        for successor in successors:\n",
        "            if tuple(map(tuple, successor.state)) not in visited:\n",
        "                stack.append(successor)\n",
        "\n",
        "    print(\"Goal state not reachable.\")\n",
        "    return False\n",
        "\n",
        "\n",
        "initial_state = [\n",
        "    [\"A\", \"B\", \" \"],\n",
        "    [\"C\", \" \", \"D\"],\n",
        "]\n",
        "\n",
        "goal_state = [\n",
        "    [\" \", \"B\", \"A\"],\n",
        "    [\"C\", \"D\", \" \"],\n",
        "]\n",
        "\n",
        "depth_first_search(initial_state, goal_state)\n"
      ]
    }
  ]
}