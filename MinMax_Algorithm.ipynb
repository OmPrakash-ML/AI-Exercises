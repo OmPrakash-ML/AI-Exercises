{
  "nbformat": 4,
  "nbformat_minor": 0,
  "metadata": {
    "colab": {
      "provenance": [],
      "authorship_tag": "ABX9TyPvQtTCfd+6rnG5XUOv2EAT",
      "include_colab_link": true
    },
    "kernelspec": {
      "name": "python3",
      "display_name": "Python 3"
    },
    "language_info": {
      "name": "python"
    }
  },
  "cells": [
    {
      "cell_type": "markdown",
      "metadata": {
        "id": "view-in-github",
        "colab_type": "text"
      },
      "source": [
        "<a href=\"https://colab.research.google.com/github/OmPrakash-ML/AI-Exercises/blob/main/MinMax_Algorithm.ipynb\" target=\"_parent\"><img src=\"https://colab.research.google.com/assets/colab-badge.svg\" alt=\"Open In Colab\"/></a>"
      ]
    },
    {
      "cell_type": "code",
      "source": [],
      "metadata": {
        "id": "9QW7jhjRMcbb"
      },
      "execution_count": null,
      "outputs": []
    },
    {
      "cell_type": "code",
      "execution_count": null,
      "metadata": {
        "colab": {
          "base_uri": "https://localhost:8080/"
        },
        "id": "RjcxulPjaUoR",
        "outputId": "d7869fdb-d740-4725-ed53-a105a3f52381"
      },
      "outputs": [
        {
          "output_type": "stream",
          "name": "stdout",
          "text": [
            "X O X\n",
            "O O X\n",
            "_ _ _\n",
            "\n",
            "The best move is at position: (2, 2)\n"
          ]
        }
      ],
      "source": [
        "import math\n",
        "\n",
        "def print_board(board):\n",
        "    for row in board:\n",
        "        print(\" \".join(row))\n",
        "    print()\n",
        "\n",
        "def is_moves_left(board):\n",
        "    for row in board:\n",
        "        if \"_\" in row:\n",
        "            return True\n",
        "    return False\n",
        "\n",
        "def evaluate(board):\n",
        "    for row in board:\n",
        "        if row.count(\"X\") == 3:\n",
        "            return 10\n",
        "        if row.count(\"O\") == 3:\n",
        "            return -10\n",
        "\n",
        "    for col in range(3):\n",
        "        if all(board[row][col] == \"X\" for row in range(3)):\n",
        "            return 10\n",
        "        if all(board[row][col] == \"O\" for row in range(3)):\n",
        "            return -10\n",
        "\n",
        "    if all(board[i][i] == \"X\" for i in range(3)) or all(board[i][2-i] == \"X\" for i in range(3)):\n",
        "        return 10\n",
        "    if all(board[i][i] == \"O\" for i in range(3)) or all(board[i][2-i] == \"O\" for i in range(3)):\n",
        "        return -10\n",
        "\n",
        "    return 0\n",
        "\n",
        "def minimax(board, depth, is_max):\n",
        "    score = evaluate(board)\n",
        "\n",
        "    if score == 10:\n",
        "        return score - depth\n",
        "    if score == -10:\n",
        "        return score + depth\n",
        "    if not is_moves_left(board):\n",
        "        return 0\n",
        "\n",
        "    if is_max:\n",
        "        best = -math.inf\n",
        "        for i in range(3):\n",
        "            for j in range(3):\n",
        "                if board[i][j] == \"_\":\n",
        "                    board[i][j] = \"X\"\n",
        "                    best = max(best, minimax(board, depth + 1, False))\n",
        "                    board[i][j] = \"_\"\n",
        "        return best\n",
        "    else:\n",
        "        best = math.inf\n",
        "        for i in range(3):\n",
        "            for j in range(3):\n",
        "                if board[i][j] == \"_\":\n",
        "                    board[i][j] = \"O\"\n",
        "                    best = min(best, minimax(board, depth + 1, True))\n",
        "                    board[i][j] = \"_\"\n",
        "        return best\n",
        "\n",
        "def find_best_move(board):\n",
        "    best_val = -math.inf\n",
        "    best_move = (-1, -1)\n",
        "\n",
        "    for i in range(3):\n",
        "        for j in range(3):\n",
        "            if board[i][j] == \"_\":\n",
        "                board[i][j] = \"X\"\n",
        "                move_val = minimax(board, 0, False)\n",
        "                board[i][j] = \"_\"\n",
        "                if move_val > best_val:\n",
        "                    best_val = move_val\n",
        "                    best_move = (i, j)\n",
        "\n",
        "    return best_move\n",
        "\n",
        "\n",
        "board = [\n",
        "    [\"X\", \"O\", \"X\"],\n",
        "    [\"O\", \"O\", \"X\"],\n",
        "    [\"_\", \"_\", \"_\"]\n",
        "]\n",
        "\n",
        "print_board(board)\n",
        "move = find_best_move(board)\n",
        "print(f\"The best move is at position: {move}\")\n"
      ]
    }
  ]
}