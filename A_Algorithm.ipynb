{
  "nbformat": 4,
  "nbformat_minor": 0,
  "metadata": {
    "colab": {
      "provenance": [],
      "authorship_tag": "ABX9TyN7Tj+840VgQ188eVkLDvBX",
      "include_colab_link": true
    },
    "kernelspec": {
      "name": "python3",
      "display_name": "Python 3"
    },
    "language_info": {
      "name": "python"
    }
  },
  "cells": [
    {
      "cell_type": "markdown",
      "metadata": {
        "id": "view-in-github",
        "colab_type": "text"
      },
      "source": [
        "<a href=\"https://colab.research.google.com/github/OmPrakash-ML/AI-Exercises/blob/main/A_Algorithm.ipynb\" target=\"_parent\"><img src=\"https://colab.research.google.com/assets/colab-badge.svg\" alt=\"Open In Colab\"/></a>"
      ]
    },
    {
      "cell_type": "code",
      "execution_count": 3,
      "metadata": {
        "colab": {
          "base_uri": "https://localhost:8080/"
        },
        "id": "7KsGTNpnNrRW",
        "outputId": "0e1396ee-b2bc-466e-860e-706d789a63e0"
      },
      "outputs": [
        {
          "output_type": "stream",
          "name": "stdout",
          "text": [
            "Path found: [(0, 0), (0, 1), (0, 2), (0, 3), (0, 4), (1, 4), (2, 4), (3, 4), (4, 4)]\n"
          ]
        }
      ],
      "source": [
        "import heapq\n",
        "\n",
        "def heuristic(a, b):\n",
        "    \"\"\"Calculate the Manhattan distance heuristic.\"\"\"\n",
        "    return abs(a[0] - b[0]) + abs(a[1] - b[1])\n",
        "\n",
        "def astar(grid, start, goal):\n",
        "    \"\"\"Perform A* pathfinding algorithm.\"\"\"\n",
        "    neighbors = [(0,1),(1,0),(0,-1),(-1,0)]\n",
        "    open_set = []\n",
        "    heapq.heappush(open_set, (0 + heuristic(start, goal), 0, start, [start]))\n",
        "\n",
        "    visited = set()\n",
        "\n",
        "    while open_set:\n",
        "        f_score, g_score, current, path = heapq.heappop(open_set)\n",
        "\n",
        "        if current == goal:\n",
        "            return path\n",
        "\n",
        "        visited.add(current)\n",
        "\n",
        "        for dx, dy in neighbors:\n",
        "            neighbor = (current[0] + dx, current[1] + dy)\n",
        "\n",
        "            if (0 <= neighbor[0] < len(grid) and\n",
        "                0 <= neighbor[1] < len(grid[0]) and\n",
        "                grid[neighbor[0]][neighbor[1]] == 0 and\n",
        "                neighbor not in visited):\n",
        "\n",
        "                heapq.heappush(open_set, (\n",
        "                    g_score + 1 + heuristic(neighbor, goal),\n",
        "                    g_score + 1,\n",
        "                    neighbor,\n",
        "                    path + [neighbor]\n",
        "                ))\n",
        "\n",
        "    return None\n",
        "\n",
        "if __name__ == \"__main__\":\n",
        "    grid = [\n",
        "        [0, 0, 0, 0, 0],\n",
        "        [0, 1, 1, 1, 0],\n",
        "        [0, 1, 0, 0, 0],\n",
        "        [0, 0, 0, 1, 0],\n",
        "        [0, 1, 0, 0, 0]\n",
        "    ]\n",
        "    start = (0, 0)\n",
        "    goal = (4, 4)\n",
        "    path = astar(grid, start, goal)\n",
        "\n",
        "    if path:\n",
        "        print(\"Path found:\", path)\n",
        "    else:\n",
        "        print(\"No path found.\")\n"
      ]
    }
  ]
}